{
  "nbformat": 4,
  "nbformat_minor": 0,
  "metadata": {
    "colab": {
      "provenance": []
    },
    "kernelspec": {
      "name": "python3",
      "display_name": "Python 3"
    },
    "accelerator": "GPU"
  },
  "cells": [
    {
      "metadata": {
        "id": "TOyGrPT5ASDc"
      },
      "cell_type": "code",
      "source": [
        "# Import necessary packages\n",
        "%matplotlib inline\n",
        "%config InlineBackend.figure_format = 'retina'\n",
        "\n",
        "import numpy as np\n",
        "import torch\n",
        "import torchvision\n",
        "import matplotlib.pyplot as plt\n",
        "from time import time"
      ],
      "execution_count": 1,
      "outputs": []
    },
    {
      "metadata": {
        "id": "XPuuTDEfAfDy"
      },
      "cell_type": "code",
      "source": [
        "import os\n",
        "from google.colab import drive"
      ],
      "execution_count": 2,
      "outputs": []
    },
    {
      "metadata": {
        "id": "uLdtrS4zaeEs"
      },
      "cell_type": "markdown",
      "source": [
        "### Download The Dataset & Define The Transforms"
      ]
    },
    {
      "metadata": {
        "id": "sZD2NGz2Ak6w",
        "colab": {
          "base_uri": "https://localhost:8080/"
        },
        "outputId": "159bb5c2-de10-47aa-bcd5-3702518b9870"
      },
      "cell_type": "code",
      "source": [
        "from torchvision import datasets, transforms\n",
        "\n",
        "# Define a transform to normalize the data\n",
        "transform = transforms.Compose([transforms.ToTensor(),\n",
        "                              transforms.Normalize((0.5,), (0.5,)),\n",
        "                              ])\n",
        "\n",
        "# Download and load the training data\n",
        "trainset = datasets.MNIST('drive/My Drive/mnist/MNIST_data/', download=True, train=True, transform=transform)\n",
        "valset = datasets.MNIST('drive/My Drive/mnist/MNIST_data/', download=True, train=False, transform=transform)\n",
        "trainloader = torch.utils.data.DataLoader(trainset, batch_size=64, shuffle=True)\n",
        "valloader = torch.utils.data.DataLoader(valset, batch_size=64, shuffle=True)"
      ],
      "execution_count": 3,
      "outputs": [
        {
          "output_type": "stream",
          "name": "stdout",
          "text": [
            "Downloading http://yann.lecun.com/exdb/mnist/train-images-idx3-ubyte.gz\n",
            "Failed to download (trying next):\n",
            "HTTP Error 403: Forbidden\n",
            "\n",
            "Downloading https://ossci-datasets.s3.amazonaws.com/mnist/train-images-idx3-ubyte.gz\n",
            "Downloading https://ossci-datasets.s3.amazonaws.com/mnist/train-images-idx3-ubyte.gz to drive/My Drive/mnist/MNIST_data/MNIST/raw/train-images-idx3-ubyte.gz\n"
          ]
        },
        {
          "output_type": "stream",
          "name": "stderr",
          "text": [
            "100%|██████████| 9912422/9912422 [00:00<00:00, 17653862.51it/s]\n"
          ]
        },
        {
          "output_type": "stream",
          "name": "stdout",
          "text": [
            "Extracting drive/My Drive/mnist/MNIST_data/MNIST/raw/train-images-idx3-ubyte.gz to drive/My Drive/mnist/MNIST_data/MNIST/raw\n",
            "\n",
            "Downloading http://yann.lecun.com/exdb/mnist/train-labels-idx1-ubyte.gz\n",
            "Failed to download (trying next):\n",
            "HTTP Error 403: Forbidden\n",
            "\n",
            "Downloading https://ossci-datasets.s3.amazonaws.com/mnist/train-labels-idx1-ubyte.gz\n",
            "Downloading https://ossci-datasets.s3.amazonaws.com/mnist/train-labels-idx1-ubyte.gz to drive/My Drive/mnist/MNIST_data/MNIST/raw/train-labels-idx1-ubyte.gz\n"
          ]
        },
        {
          "output_type": "stream",
          "name": "stderr",
          "text": [
            "100%|██████████| 28881/28881 [00:00<00:00, 475461.46it/s]\n"
          ]
        },
        {
          "output_type": "stream",
          "name": "stdout",
          "text": [
            "Extracting drive/My Drive/mnist/MNIST_data/MNIST/raw/train-labels-idx1-ubyte.gz to drive/My Drive/mnist/MNIST_data/MNIST/raw\n",
            "\n",
            "Downloading http://yann.lecun.com/exdb/mnist/t10k-images-idx3-ubyte.gz\n",
            "Failed to download (trying next):\n",
            "HTTP Error 403: Forbidden\n",
            "\n",
            "Downloading https://ossci-datasets.s3.amazonaws.com/mnist/t10k-images-idx3-ubyte.gz\n",
            "Downloading https://ossci-datasets.s3.amazonaws.com/mnist/t10k-images-idx3-ubyte.gz to drive/My Drive/mnist/MNIST_data/MNIST/raw/t10k-images-idx3-ubyte.gz\n"
          ]
        },
        {
          "output_type": "stream",
          "name": "stderr",
          "text": [
            "100%|██████████| 1648877/1648877 [00:00<00:00, 4391134.16it/s]\n"
          ]
        },
        {
          "output_type": "stream",
          "name": "stdout",
          "text": [
            "Extracting drive/My Drive/mnist/MNIST_data/MNIST/raw/t10k-images-idx3-ubyte.gz to drive/My Drive/mnist/MNIST_data/MNIST/raw\n",
            "\n",
            "Downloading http://yann.lecun.com/exdb/mnist/t10k-labels-idx1-ubyte.gz\n",
            "Failed to download (trying next):\n",
            "HTTP Error 403: Forbidden\n",
            "\n",
            "Downloading https://ossci-datasets.s3.amazonaws.com/mnist/t10k-labels-idx1-ubyte.gz\n",
            "Downloading https://ossci-datasets.s3.amazonaws.com/mnist/t10k-labels-idx1-ubyte.gz to drive/My Drive/mnist/MNIST_data/MNIST/raw/t10k-labels-idx1-ubyte.gz\n"
          ]
        },
        {
          "output_type": "stream",
          "name": "stderr",
          "text": [
            "100%|██████████| 4542/4542 [00:00<00:00, 4360386.53it/s]"
          ]
        },
        {
          "output_type": "stream",
          "name": "stdout",
          "text": [
            "Extracting drive/My Drive/mnist/MNIST_data/MNIST/raw/t10k-labels-idx1-ubyte.gz to drive/My Drive/mnist/MNIST_data/MNIST/raw\n",
            "\n"
          ]
        },
        {
          "output_type": "stream",
          "name": "stderr",
          "text": [
            "\n"
          ]
        }
      ]
    },
    {
      "metadata": {
        "id": "GcAfrn2falkK"
      },
      "cell_type": "markdown",
      "source": [
        "### Exploring The Data"
      ]
    },
    {
      "metadata": {
        "id": "xOjlOyjcCezX",
        "colab": {
          "base_uri": "https://localhost:8080/"
        },
        "outputId": "f8ec9773-e5c9-47ba-c2b1-51068741c0ab"
      },
      "cell_type": "code",
      "source": [
        "# Example corrected approach to iterate through trainloader\n",
        "dataiter = iter(trainloader)\n",
        "images, labels = next(dataiter)  # Get the next batch using next()\n",
        "\n",
        "print(type(images))  # Print type of images\n",
        "print(images.shape)  # Print shape of images tensor\n",
        "print(labels.shape)  # Print shape of labels tensor\n"
      ],
      "execution_count": 4,
      "outputs": [
        {
          "output_type": "stream",
          "name": "stdout",
          "text": [
            "<class 'torch.Tensor'>\n",
            "torch.Size([64, 1, 28, 28])\n",
            "torch.Size([64])\n"
          ]
        }
      ]
    },
    {
      "metadata": {
        "id": "EuBvOWmGDHOq",
        "colab": {
          "base_uri": "https://localhost:8080/",
          "height": 430
        },
        "outputId": "da697852-fe85-41c7-e63b-c91c650438bd"
      },
      "cell_type": "code",
      "source": [
        "plt.imshow(images[0].numpy().squeeze(), cmap='gray_r');"
      ],
      "execution_count": 5,
      "outputs": [
        {
          "output_type": "display_data",
          "data": {
            "text/plain": [
              "<Figure size 640x480 with 1 Axes>"
            ],
            "image/png": "[encoded data removed]"
          },
          "metadata": {
            "image/png": {
              "width": 417,
              "height": 413
            }
          }
        }
      ]
    },
    {
      "metadata": {
        "id": "F9CppCcqDLtB",
        "colab": {
          "base_uri": "https://localhost:8080/",
          "height": 395
        },
        "outputId": "cb0e5f65-1a8b-48a5-893f-432b7a3aef8d"
      },
      "cell_type": "code",
      "source": [
        "figure = plt.figure()\n",
        "num_of_images = 60\n",
        "for index in range(1, num_of_images + 1):\n",
        "    plt.subplot(6, 10, index)\n",
        "    plt.axis('off')\n",
        "    plt.imshow(images[index].numpy().squeeze(), cmap='gray_r')"
      ],
      "execution_count": 6,
      "outputs": [
        {
          "output_type": "display_data",
          "data": {
            "text/plain": [
              "<Figure size 640x480 with 60 Axes>"
            ],
            "image/png": "[encoded data removed]"
          },
          "metadata": {
            "image/png": {
              "width": 515,
              "height": 378
            }
          }
        }
      ]
    },
    {
      "metadata": {
        "id": "lGyau0mOaP2m"
      },
      "cell_type": "markdown",
      "source": [
        "### Defining The Neural Network"
      ]
    },
    {
      "metadata": {
        "id": "n-NR96UtFSkB"
      },
      "cell_type": "markdown",
      "source": [
        "![](https://raw.githubusercontent.com/dmlc/web-data/master/mxnet/image/mlp_mnist.png)"
      ]
    },
    {
      "metadata": {
        "id": "3WJXInzQGcAy",
        "colab": {
          "base_uri": "https://localhost:8080/"
        },
        "outputId": "befe86c8-05d2-418f-d61e-1f5ae1734836"
      },
      "cell_type": "code",
      "source": [
        "from torch import nn\n",
        "\n",
        "# Layer details for the neural network\n",
        "input_size = 784\n",
        "hidden_sizes = [128, 64]\n",
        "output_size = 10\n",
        "\n",
        "# Build a feed-forward network\n",
        "model = nn.Sequential(nn.Linear(input_size, hidden_sizes[0]),\n",
        "                      nn.ReLU(),\n",
        "                      nn.Linear(hidden_sizes[0], hidden_sizes[1]),\n",
        "                      nn.ReLU(),\n",
        "                      nn.Linear(hidden_sizes[1], output_size),\n",
        "                      nn.LogSoftmax(dim=1))\n",
        "print(model)"
      ],
      "execution_count": 7,
      "outputs": [
        {
          "output_type": "stream",
          "name": "stdout",
          "text": [
            "Sequential(\n",
            "  (0): Linear(in_features=784, out_features=128, bias=True)\n",
            "  (1): ReLU()\n",
            "  (2): Linear(in_features=128, out_features=64, bias=True)\n",
            "  (3): ReLU()\n",
            "  (4): Linear(in_features=64, out_features=10, bias=True)\n",
            "  (5): LogSoftmax(dim=1)\n",
            ")\n"
          ]
        }
      ]
    },
    {
      "metadata": {
        "id": "XyXEUFICQeqF",
        "colab": {
          "base_uri": "https://localhost:8080/"
        },
        "outputId": "05beca5a-ef63-4576-87aa-ff6c07b3425d"
      },
      "cell_type": "code",
      "source": [
        "device = torch.device(\"cuda\" if torch.cuda.is_available() else \"cpu\")\n",
        "print(device)\n",
        "model.to(device)"
      ],
      "execution_count": 8,
      "outputs": [
        {
          "output_type": "stream",
          "name": "stdout",
          "text": [
            "cuda\n"
          ]
        },
        {
          "output_type": "execute_result",
          "data": {
            "text/plain": [
              "Sequential(\n",
              "  (0): Linear(in_features=784, out_features=128, bias=True)\n",
              "  (1): ReLU()\n",
              "  (2): Linear(in_features=128, out_features=64, bias=True)\n",
              "  (3): ReLU()\n",
              "  (4): Linear(in_features=64, out_features=10, bias=True)\n",
              "  (5): LogSoftmax(dim=1)\n",
              ")"
            ]
          },
          "metadata": {},
          "execution_count": 8
        }
      ]
    },
    {
      "metadata": {
        "id": "oxSLypv2LOD-"
      },
      "cell_type": "code",
      "source": [
        "criterion = nn.NLLLoss()\n",
        "images, labels = next(iter(trainloader))\n",
        "images = images.view(images.shape[0], -1)\n",
        "\n",
        "logps = model(images.cuda())\n",
        "loss = criterion(logps, labels.cuda())"
      ],
      "execution_count": 9,
      "outputs": []
    },
    {
      "metadata": {
        "id": "Pj4I2lLgLVWw",
        "colab": {
          "base_uri": "https://localhost:8080/"
        },
        "outputId": "ebc36407-2955-4c2a-ab33-a14f65a8d0b2"
      },
      "cell_type": "code",
      "source": [
        "print('Before backward pass: \\n', model[0].weight.grad)\n",
        "\n",
        "loss.backward()\n",
        "\n",
        "print('After backward pass: \\n', model[0].weight.grad)"
      ],
      "execution_count": 10,
      "outputs": [
        {
          "output_type": "stream",
          "name": "stdout",
          "text": [
            "Before backward pass: \n",
            " None\n",
            "After backward pass: \n",
            " tensor([[ 0.0007,  0.0007,  0.0007,  ...,  0.0007,  0.0007,  0.0007],\n",
            "        [-0.0022, -0.0022, -0.0022,  ..., -0.0022, -0.0022, -0.0022],\n",
            "        [ 0.0074,  0.0074,  0.0074,  ...,  0.0074,  0.0074,  0.0074],\n",
            "        ...,\n",
            "        [-0.0060, -0.0060, -0.0060,  ..., -0.0060, -0.0060, -0.0060],\n",
            "        [-0.0007, -0.0007, -0.0007,  ..., -0.0007, -0.0007, -0.0007],\n",
            "        [ 0.0017,  0.0017,  0.0017,  ...,  0.0017,  0.0017,  0.0017]],\n",
            "       device='cuda:0')\n"
          ]
        }
      ]
    },
    {
      "metadata": {
        "id": "F0ZVHVbvI_yt"
      },
      "cell_type": "code",
      "source": [
        "from torch import optim\n",
        "\n",
        "# Optimizers require the parameters to optimize and a learning rate\n",
        "optimizer = optim.SGD(model.parameters(), lr=0.01, momentum=0.5)"
      ],
      "execution_count": 11,
      "outputs": []
    },
    {
      "metadata": {
        "id": "dS9JqXhhLdkr",
        "colab": {
          "base_uri": "https://localhost:8080/"
        },
        "outputId": "3231c467-8762-4a5a-a973-7958efb17899"
      },
      "cell_type": "code",
      "source": [
        "print('Initial weights - ', model[0].weight)\n",
        "\n",
        "images, labels = next(iter(trainloader))\n",
        "images.resize_(64, 784)\n",
        "\n",
        "# Clear the gradients, do this because gradients are accumulated\n",
        "optimizer.zero_grad()\n",
        "\n",
        "# Forward pass, then backward pass, then update weights\n",
        "output = model(images.cuda())\n",
        "loss = criterion(output, labels.cuda())\n",
        "loss.backward()\n",
        "print('Gradient -', model[0].weight.grad)"
      ],
      "execution_count": 12,
      "outputs": [
        {
          "output_type": "stream",
          "name": "stdout",
          "text": [
            "Initial weights -  Parameter containing:\n",
            "tensor([[-0.0312,  0.0321,  0.0014,  ...,  0.0039, -0.0299, -0.0228],\n",
            "        [-0.0184, -0.0174,  0.0072,  ..., -0.0357, -0.0281, -0.0103],\n",
            "        [-0.0103, -0.0035,  0.0345,  ..., -0.0005, -0.0250, -0.0138],\n",
            "        ...,\n",
            "        [-0.0049,  0.0134,  0.0011,  ...,  0.0096,  0.0003, -0.0303],\n",
            "        [-0.0129,  0.0257,  0.0218,  ..., -0.0323,  0.0304,  0.0314],\n",
            "        [-0.0327, -0.0341, -0.0253,  ...,  0.0248, -0.0213,  0.0097]],\n",
            "       device='cuda:0', requires_grad=True)\n",
            "Gradient - tensor([[ 0.0011,  0.0011,  0.0011,  ...,  0.0011,  0.0011,  0.0011],\n",
            "        [ 0.0009,  0.0009,  0.0009,  ...,  0.0009,  0.0009,  0.0009],\n",
            "        [ 0.0009,  0.0009,  0.0009,  ...,  0.0009,  0.0009,  0.0009],\n",
            "        ...,\n",
            "        [-0.0027, -0.0027, -0.0027,  ..., -0.0027, -0.0027, -0.0027],\n",
            "        [ 0.0002,  0.0002,  0.0002,  ...,  0.0002,  0.0002,  0.0002],\n",
            "        [-0.0020, -0.0020, -0.0020,  ..., -0.0020, -0.0020, -0.0020]],\n",
            "       device='cuda:0')\n"
          ]
        }
      ]
    },
    {
      "metadata": {
        "id": "wy0KOQ95LgYN",
        "colab": {
          "base_uri": "https://localhost:8080/"
        },
        "outputId": "ad8d7c37-96b9-4b4f-db29-e00b8c31f75d"
      },
      "cell_type": "code",
      "source": [
        "# Take an update step and few the new weights\n",
        "optimizer.step()\n",
        "print('Updated weights - ', model[0].weight)"
      ],
      "execution_count": 13,
      "outputs": [
        {
          "output_type": "stream",
          "name": "stdout",
          "text": [
            "Updated weights -  Parameter containing:\n",
            "tensor([[-0.0312,  0.0321,  0.0014,  ...,  0.0039, -0.0299, -0.0228],\n",
            "        [-0.0184, -0.0174,  0.0072,  ..., -0.0357, -0.0281, -0.0103],\n",
            "        [-0.0103, -0.0036,  0.0345,  ..., -0.0005, -0.0250, -0.0138],\n",
            "        ...,\n",
            "        [-0.0049,  0.0134,  0.0011,  ...,  0.0096,  0.0003, -0.0303],\n",
            "        [-0.0129,  0.0257,  0.0218,  ..., -0.0323,  0.0304,  0.0314],\n",
            "        [-0.0327, -0.0341, -0.0253,  ...,  0.0249, -0.0212,  0.0097]],\n",
            "       device='cuda:0', requires_grad=True)\n"
          ]
        }
      ]
    },
    {
      "metadata": {
        "id": "wstRGu4FaJBe"
      },
      "cell_type": "markdown",
      "source": [
        "### Core Training Of Neural Network"
      ]
    },
    {
      "metadata": {
        "id": "XCsoAdjdLjPb",
        "colab": {
          "base_uri": "https://localhost:8080/"
        },
        "outputId": "865ac4cb-fba5-48dd-c80f-2c00020c22bd"
      },
      "cell_type": "code",
      "source": [
        "optimizer = optim.SGD(model.parameters(), lr=0.003, momentum=0.9)\n",
        "time0 = time()\n",
        "epochs = 15\n",
        "for e in range(epochs):\n",
        "    running_loss = 0\n",
        "    for images, labels in trainloader:\n",
        "        # Flatten MNIST images into a 784 long vector\n",
        "        images = images.view(images.shape[0], -1)\n",
        "\n",
        "        # Training pass\n",
        "        optimizer.zero_grad()\n",
        "\n",
        "        output = model(images.cuda())\n",
        "        loss = criterion(output, labels.cuda())\n",
        "\n",
        "        #This is where the model learns by backpropagating\n",
        "        loss.backward()\n",
        "\n",
        "        #And optimizes its weights here\n",
        "        optimizer.step()\n",
        "\n",
        "        running_loss += loss.item()\n",
        "    else:\n",
        "        print(\"Epoch {} - Training loss: {}\".format(e, running_loss/len(trainloader)))\n",
        "print(\"\\nTraining Time (in minutes) =\",(time()-time0)/60)\n"
      ],
      "execution_count": 14,
      "outputs": [
        {
          "output_type": "stream",
          "name": "stdout",
          "text": [
            "Epoch 0 - Training loss: 0.6309142525293934\n",
            "Epoch 1 - Training loss: 0.28036641590853234\n",
            "Epoch 2 - Training loss: 0.21955660383091935\n",
            "Epoch 3 - Training loss: 0.17717922331372113\n",
            "Epoch 4 - Training loss: 0.14942671039076186\n",
            "Epoch 5 - Training loss: 0.12747333947716077\n",
            "Epoch 6 - Training loss: 0.110656387953044\n",
            "Epoch 7 - Training loss: 0.09811043563876738\n",
            "Epoch 8 - Training loss: 0.08830120834782085\n",
            "Epoch 9 - Training loss: 0.07924287788706945\n",
            "Epoch 10 - Training loss: 0.07234728954303493\n",
            "Epoch 11 - Training loss: 0.06664021926046387\n",
            "Epoch 12 - Training loss: 0.06064245941242509\n",
            "Epoch 13 - Training loss: 0.05663608596138934\n",
            "Epoch 14 - Training loss: 0.05283980911522151\n",
            "\n",
            "Training Time (in minutes) = 3.4375229676564536\n"
          ]
        }
      ]
    },
    {
      "metadata": {
        "id": "75j9X1b6ME5K"
      },
      "cell_type": "code",
      "source": [
        "def view_classify(img, ps):\n",
        "    ''' Function for viewing an image and it's predicted classes.\n",
        "    '''\n",
        "    ps = ps.cpu().data.numpy().squeeze()\n",
        "\n",
        "    fig, (ax1, ax2) = plt.subplots(figsize=(6,9), ncols=2)\n",
        "    ax1.imshow(img.resize_(1, 28, 28).numpy().squeeze())\n",
        "    ax1.axis('off')\n",
        "    ax2.barh(np.arange(10), ps)\n",
        "    ax2.set_aspect(0.1)\n",
        "    ax2.set_yticks(np.arange(10))\n",
        "    ax2.set_yticklabels(np.arange(10))\n",
        "    ax2.set_title('Class Probability')\n",
        "    ax2.set_xlim(0, 1.1)\n",
        "    plt.tight_layout()"
      ],
      "execution_count": 15,
      "outputs": []
    },
    {
      "metadata": {
        "id": "Ie9Fffl_Mqp6",
        "colab": {
          "base_uri": "https://localhost:8080/",
          "height": 361
        },
        "outputId": "f8deea27-9b24-4a22-d8bc-d47ac5d2cbd6"
      },
      "cell_type": "code",
      "source": [
        "images, labels = next(iter(valloader))\n",
        "\n",
        "img = images[0].view(1, 784)\n",
        "# Turn off gradients to speed up this part\n",
        "with torch.no_grad():\n",
        "    logps = model(img.cuda())\n",
        "\n",
        "# Output of the network are log-probabilities, need to take exponential for probabilities\n",
        "ps = torch.exp(logps)\n",
        "probab = list(ps.cpu().numpy()[0])\n",
        "print(\"Predicted Digit =\", probab.index(max(probab)))\n",
        "view_classify(img.view(1, 28, 28), ps)"
      ],
      "execution_count": 16,
      "outputs": [
        {
          "output_type": "stream",
          "name": "stdout",
          "text": [
            "Predicted Digit = 5\n"
          ]
        },
        {
          "output_type": "display_data",
          "data": {
            "text/plain": [
              "<Figure size 600x900 with 2 Axes>"
            ],
            "image/png": "[encoded data removed]"
          },
          "metadata": {
            "image/png": {
              "width": 589,
              "height": 327
            }
          }
        }
      ]
    },
    {
      "metadata": {
        "id": "wAEvDtiaM6RQ"
      },
      "cell_type": "markdown",
      "source": [
        "### Model Evaluation"
      ]
    },
    {
      "metadata": {
        "id": "5sBPmaBONPkT",
        "colab": {
          "base_uri": "https://localhost:8080/"
        },
        "outputId": "928f75a6-fce7-4e17-896e-c949ff789928"
      },
      "cell_type": "code",
      "source": [
        "correct_count, all_count = 0, 0\n",
        "for images,labels in valloader:\n",
        "  for i in range(len(labels)):\n",
        "    img = images[i].view(1, 784)\n",
        "    # Turn off gradients to speed up this part\n",
        "    with torch.no_grad():\n",
        "        logps = model(img.cuda())\n",
        "\n",
        "    # Output of the network are log-probabilities, need to take exponential for probabilities\n",
        "    ps = torch.exp(logps)\n",
        "    probab = list(ps.cpu().numpy()[0])\n",
        "    pred_label = probab.index(max(probab))\n",
        "    true_label = labels.numpy()[i]\n",
        "    if(true_label == pred_label):\n",
        "      correct_count += 1\n",
        "    all_count += 1\n",
        "\n",
        "print(\"Number Of Images Tested =\", all_count)\n",
        "print(\"\\nModel Accuracy =\", (correct_count/all_count))"
      ],
      "execution_count": 17,
      "outputs": [
        {
          "output_type": "stream",
          "name": "stdout",
          "text": [
            "Number Of Images Tested = 10000\n",
            "\n",
            "Model Accuracy = 0.9721\n"
          ]
        }
      ]
    }
  ]
}